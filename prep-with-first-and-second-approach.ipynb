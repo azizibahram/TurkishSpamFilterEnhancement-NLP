{
 "cells": [
  {
   "cell_type": "markdown",
   "id": "42e23c21",
   "metadata": {},
   "source": [
    "# TurkishSpamFilterEnhancement-NLP"
   ]
  },
  {
   "cell_type": "markdown",
   "id": "4e663be5",
   "metadata": {},
   "source": [
    "# Let's Import the libraries"
   ]
  },
  {
   "cell_type": "code",
   "execution_count": 1,
   "id": "a2d41ec3",
   "metadata": {},
   "outputs": [
    {
     "name": "stderr",
     "output_type": "stream",
     "text": [
      "[nltk_data] Downloading package punkt to\n",
      "[nltk_data]     C:\\Users\\bahra\\AppData\\Roaming\\nltk_data...\n",
      "[nltk_data]   Package punkt is already up-to-date!\n",
      "[nltk_data] Downloading package stopwords to\n",
      "[nltk_data]     C:\\Users\\bahra\\AppData\\Roaming\\nltk_data...\n",
      "[nltk_data]   Package stopwords is already up-to-date!\n"
     ]
    }
   ],
   "source": [
    "import pandas as pd\n",
    "import numpy as np\n",
    "import os\n",
    "import re\n",
    "from typing import List\n",
    "import string\n",
    "import jpype\n",
    "from jpype import JClass, JString, getDefaultJVMPath, shutdownJVM, startJVM, java, isJVMStarted\n",
    "\n",
    "import nltk\n",
    "from nltk.corpus import stopwords\n",
    "nltk.download('punkt')\n",
    "nltk.download('stopwords')\n",
    "from nltk.tokenize import word_tokenize\n",
    "stop_words = set(stopwords.words('turkish'))\n",
    "import warnings\n",
    "warnings.filterwarnings('ignore')\n",
    "\n",
    "from typing import List\n",
    "%matplotlib inline\n",
    "import matplotlib.pyplot as plt\n",
    "import csv\n",
    "import sklearn\n",
    "import pickle\n",
    "from sklearn.feature_extraction.text import CountVectorizer, TfidfTransformer\n",
    "from sklearn.tree import DecisionTreeClassifier\n",
    "from sklearn.model_selection import GridSearchCV,train_test_split,StratifiedKFold,cross_val_score,learning_curve\n",
    "\n",
    "#import sklearn packages for building classifiers\n",
    "from sklearn.linear_model import LogisticRegression\n",
    "from sklearn.svm import SVC\n",
    "from sklearn.naive_bayes import MultinomialNB\n",
    "from sklearn.tree import DecisionTreeClassifier\n",
    "from sklearn.neighbors import KNeighborsClassifier\n",
    "from sklearn.ensemble import RandomForestClassifier\n",
    "from sklearn.metrics import accuracy_score"
   ]
  },
  {
   "cell_type": "code",
   "execution_count": 2,
   "id": "faab68fc",
   "metadata": {},
   "outputs": [
    {
     "data": {
      "text/html": [
       "<div>\n",
       "<style scoped>\n",
       "    .dataframe tbody tr th:only-of-type {\n",
       "        vertical-align: middle;\n",
       "    }\n",
       "\n",
       "    .dataframe tbody tr th {\n",
       "        vertical-align: top;\n",
       "    }\n",
       "\n",
       "    .dataframe thead th {\n",
       "        text-align: right;\n",
       "    }\n",
       "</style>\n",
       "<table border=\"1\" class=\"dataframe\">\n",
       "  <thead>\n",
       "    <tr style=\"text-align: right;\">\n",
       "      <th></th>\n",
       "      <th>0</th>\n",
       "      <th>1</th>\n",
       "      <th>2</th>\n",
       "    </tr>\n",
       "  </thead>\n",
       "  <tbody>\n",
       "    <tr>\n",
       "      <th>0</th>\n",
       "      <td>0.0</td>\n",
       "      <td>0.0</td>\n",
       "      <td>NaN</td>\n",
       "    </tr>\n",
       "    <tr>\n",
       "      <th>1</th>\n",
       "      <td>Sayın Yetkili ,\\n  Gelişen ve değişen günümüz ...</td>\n",
       "      <td>spam</td>\n",
       "      <td>NaN</td>\n",
       "    </tr>\n",
       "    <tr>\n",
       "      <th>2</th>\n",
       "      <td>Sayın Yetkili,\\n \\n28 Kasım 2010 tarihli KPSS ...</td>\n",
       "      <td>spam</td>\n",
       "      <td>NaN</td>\n",
       "    </tr>\n",
       "    <tr>\n",
       "      <th>3</th>\n",
       "      <td>Sayın Yetkili ,\\n  Gelişen ve değişen günümüz ...</td>\n",
       "      <td>spam</td>\n",
       "      <td>NaN</td>\n",
       "    </tr>\n",
       "    <tr>\n",
       "      <th>4</th>\n",
       "      <td>T.C.\\nURLA KAYMAKAMLIĞI\\nURLA HAKAN ÇEKEN ANAD...</td>\n",
       "      <td>spam</td>\n",
       "      <td>NaN</td>\n",
       "    </tr>\n",
       "    <tr>\n",
       "      <th>...</th>\n",
       "      <td>...</td>\n",
       "      <td>...</td>\n",
       "      <td>...</td>\n",
       "    </tr>\n",
       "    <tr>\n",
       "      <th>698</th>\n",
       "      <td>Ã¶zlem sent you a message.\\n\\n(no subject)\\n\\n...</td>\n",
       "      <td>ham</td>\n",
       "      <td>NaN</td>\n",
       "    </tr>\n",
       "    <tr>\n",
       "      <th>699</th>\n",
       "      <td>Sayın Hocalarım, değerli zamanınızı aldığım iç...</td>\n",
       "      <td>ham</td>\n",
       "      <td>NaN</td>\n",
       "    </tr>\n",
       "    <tr>\n",
       "      <th>700</th>\n",
       "      <td>PGh0bWw+DQo8aGVhZD4NCjx0aXRsZT5DaGlwJmFtcDtQSU...</td>\n",
       "      <td>ham</td>\n",
       "      <td>NaN</td>\n",
       "    </tr>\n",
       "    <tr>\n",
       "      <th>701</th>\n",
       "      <td>PCFET0NUWVBFIGh0bWwgUFVCTElDICItLy9XM0MvL0RURC...</td>\n",
       "      <td>ham</td>\n",
       "      <td>NaN</td>\n",
       "    </tr>\n",
       "    <tr>\n",
       "      <th>702</th>\n",
       "      <td>NaN</td>\n",
       "      <td>NaN</td>\n",
       "      <td>496.0</td>\n",
       "    </tr>\n",
       "  </tbody>\n",
       "</table>\n",
       "<p>703 rows × 3 columns</p>\n",
       "</div>"
      ],
      "text/plain": [
       "                                                     0     1      2\n",
       "0                                                  0.0   0.0    NaN\n",
       "1    Sayın Yetkili ,\\n  Gelişen ve değişen günümüz ...  spam    NaN\n",
       "2    Sayın Yetkili,\\n \\n28 Kasım 2010 tarihli KPSS ...  spam    NaN\n",
       "3    Sayın Yetkili ,\\n  Gelişen ve değişen günümüz ...  spam    NaN\n",
       "4    T.C.\\nURLA KAYMAKAMLIĞI\\nURLA HAKAN ÇEKEN ANAD...  spam    NaN\n",
       "..                                                 ...   ...    ...\n",
       "698  Ã¶zlem sent you a message.\\n\\n(no subject)\\n\\n...   ham    NaN\n",
       "699  Sayın Hocalarım, değerli zamanınızı aldığım iç...   ham    NaN\n",
       "700  PGh0bWw+DQo8aGVhZD4NCjx0aXRsZT5DaGlwJmFtcDtQSU...   ham    NaN\n",
       "701  PCFET0NUWVBFIGh0bWwgUFVCTElDICItLy9XM0MvL0RURC...   ham    NaN\n",
       "702                                                NaN   NaN  496.0\n",
       "\n",
       "[703 rows x 3 columns]"
      ]
     },
     "execution_count": 2,
     "metadata": {},
     "output_type": "execute_result"
    }
   ],
   "source": [
    "#Reading CSV file as pandas Dataframe\n",
    "df = pd.read_csv(\"archive/trspam.csv\", header=None, encoding=\"utf-8\", on_bad_lines='skip')\n",
    "df"
   ]
  },
  {
   "cell_type": "markdown",
   "id": "1ad711f4",
   "metadata": {},
   "source": [
    "# Dataset Cleaning and Reshaping Processes"
   ]
  },
  {
   "cell_type": "code",
   "execution_count": 3,
   "id": "25efba78",
   "metadata": {},
   "outputs": [],
   "source": [
    "#Removing na values from dataframe\n",
    "def dt_na_value_cleaning(data):\n",
    "    print(\"\\nData Shape : \", data.shape)\n",
    "    print(\"\\nNull values before removal:: \")\n",
    "    print(data.isna().sum())\n",
    "    \n",
    "    data.dropna(inplace=True)\n",
    "    data.reset_index(inplace=True,drop=True)\n",
    "    \n",
    "    print(\"\\nNull values after removal: \")\n",
    "    print(data.isna().sum())\n",
    "    print(\"\\nData Shape after cleaning :\" , data.shape)\n",
    "    \n",
    "    return data"
   ]
  },
  {
   "cell_type": "code",
   "execution_count": 4,
   "id": "1e06c578",
   "metadata": {},
   "outputs": [],
   "source": [
    " # Removing duplicate values\n",
    "def duplicate_content_removal(dt, col, ini_row):\n",
    "    dt = dt.iloc[1: , :]\n",
    "    print(\"\\nNumber of data before removing duplicates: \",ini_row)\n",
    "    duplicate_count = dt[col].duplicated().sum()\n",
    "    print(\"\\nNumber of Duplicates: \", duplicate_count)\n",
    "    \n",
    "    description_data = dt[col].drop_duplicates()\n",
    "    cleaned_row = len(description_data)\n",
    " \n",
    "    if (ini_row - cleaned_row) > 0:\n",
    "        print(\"\\nTotal data reduction : \", (ini_row - cleaned_row))\n",
    "        print(\"\\nNumber of data after removing duplicates is :\", cleaned_row)\n",
    "    else:\n",
    "        print(\"\\nNo duplicate data.\")\n",
    "    return list(description_data)             "
   ]
  },
  {
   "cell_type": "code",
   "execution_count": 5,
   "id": "dd9efcda",
   "metadata": {},
   "outputs": [
    {
     "name": "stdout",
     "output_type": "stream",
     "text": [
      "<class 'pandas.core.frame.DataFrame'>\n",
      "RangeIndex: 703 entries, 0 to 702\n",
      "Data columns (total 3 columns):\n",
      " #   Column  Non-Null Count  Dtype  \n",
      "---  ------  --------------  -----  \n",
      " 0   E_Mail  701 non-null    object \n",
      " 1   Label   702 non-null    object \n",
      " 2   NaN     1 non-null      float64\n",
      "dtypes: float64(1), object(2)\n",
      "memory usage: 16.6+ KB\n"
     ]
    }
   ],
   "source": [
    "df=df.rename(columns={0: \"E_Mail\", 1: \"Label\", 2:\"NaN\"})\n",
    "df.info()"
   ]
  },
  {
   "cell_type": "code",
   "execution_count": 6,
   "id": "8ea73687",
   "metadata": {
    "scrolled": false
   },
   "outputs": [
    {
     "name": "stdout",
     "output_type": "stream",
     "text": [
      "\n",
      "Data Shape :  (702, 2)\n",
      "\n",
      "Null values before removal:: \n",
      "E_Mail    2\n",
      "Label     1\n",
      "dtype: int64\n",
      "\n",
      "Null values after removal: \n",
      "E_Mail    0\n",
      "Label     0\n",
      "dtype: int64\n",
      "\n",
      "Data Shape after cleaning : (700, 2)\n",
      "\n",
      "Number of data before removing duplicates:  700\n",
      "\n",
      "Number of Duplicates:  66\n",
      "\n",
      "Total data reduction :  67\n",
      "\n",
      "Number of data after removing duplicates is : 633\n"
     ]
    },
    {
     "data": {
      "text/plain": [
       "ham     0.594286\n",
       "spam    0.405714\n",
       "Name: Label, dtype: float64"
      ]
     },
     "execution_count": 6,
     "metadata": {},
     "output_type": "execute_result"
    }
   ],
   "source": [
    "#deleting the unnecessary columns and rows\n",
    "del df[\"NaN\"]\n",
    "df = df.iloc[1: , :]\n",
    "df = df.replace(r'\\n',' ', regex=True)\n",
    "df = dt_na_value_cleaning(df)\n",
    "E_Mail = duplicate_content_removal(df, 'E_Mail', df.shape[\n",
    "0])\n",
    "df.shape\n",
    "df['Label'].value_counts(normalize=True)# Removing duplicate values"
   ]
  },
  {
   "cell_type": "markdown",
   "id": "6745713c",
   "metadata": {},
   "source": [
    "# Splitting Dataset into Training and Test Dataset"
   ]
  },
  {
   "cell_type": "code",
   "execution_count": 7,
   "id": "e31bb6d0",
   "metadata": {},
   "outputs": [
    {
     "name": "stdout",
     "output_type": "stream",
     "text": [
      "(560, 2)\n",
      "(140, 2)\n"
     ]
    },
    {
     "data": {
      "text/plain": [
       "ham     0.614286\n",
       "spam    0.385714\n",
       "Name: Label, dtype: float64"
      ]
     },
     "execution_count": 7,
     "metadata": {},
     "output_type": "execute_result"
    }
   ],
   "source": [
    "# Randomize the dataset\n",
    "data_randomized = df.sample(frac=1, random_state=1)\n",
    "# Calculate index for split\n",
    "training_test_index = round(len(data_randomized) * 0.8)\n",
    "# Split into training and test sets\n",
    "training_set = data_randomized[:training_test_index].reset_index(drop=True)\n",
    "test_set = data_randomized[training_test_index:].reset_index(drop=True)\n",
    "print(training_set.shape)\n",
    "print(test_set.shape)\n",
    "training_set['Label'].value_counts(normalize=True)\n",
    "test_set['Label'].value_counts(normalize=True)"
   ]
  },
  {
   "cell_type": "markdown",
   "id": "0b6d4739",
   "metadata": {},
   "source": [
    "# Pre-processing"
   ]
  },
  {
   "cell_type": "code",
   "execution_count": 8,
   "id": "d7400d28",
   "metadata": {},
   "outputs": [],
   "source": [
    "#A function for Turkish letters, to fix upper case - lower case issue\n",
    "def trlower(metin):\n",
    "    def trlower_(harf):\n",
    "        if harf=='I': sonuc = 'ı'\n",
    "        elif harf=='İ': sonuc = 'i'\n",
    "        else: sonuc = harf.lower()\n",
    "        return sonuc\n",
    "    sonuc = ''\n",
    "    for a in metin:\n",
    "        sonuc += trlower_(a)\n",
    "    return sonuc\n",
    "\n",
    "#Function for removing digits\n",
    "def sayi(metin): \n",
    "    sonuc = ''.join([i for i in metin if not i.isdigit()])\n",
    "    return sonuc\n",
    "\n",
    "#Function for removing punctuation\n",
    "def noktalama(metin):\n",
    "    sonuc = \"\".join([i for i in metin if i not in string.punctuation])\n",
    "    return sonuc\n",
    "\n",
    "#Function for removing white-spaces\n",
    "def wspace(metin):\n",
    "    if metin is None:\n",
    "        sonuc=''\n",
    "    sonuc=metin.strip()\n",
    "    return sonuc\n",
    "\n",
    "#Function for removing words less than 3 characters\n",
    "def remove_length(x):\n",
    "    res = list()\n",
    "    for word in x:\n",
    "        if len(word) >= 3:\n",
    "            res.append(word)\n",
    "    return \" \".join(res)"
   ]
  },
  {
   "cell_type": "code",
   "execution_count": 9,
   "id": "0c641997",
   "metadata": {},
   "outputs": [
    {
     "name": "stdout",
     "output_type": "stream",
     "text": [
      "File exists\n"
     ]
    }
   ],
   "source": [
    "ZEMBEREK_PATH = 'libs/zemberek-full.jar'\n",
    "\n",
    "if os.path.isfile(ZEMBEREK_PATH):\n",
    "    print(\"File exists\")\n",
    "else:\n",
    "    print(\"File does not exist\")"
   ]
  },
  {
   "cell_type": "code",
   "execution_count": 11,
   "id": "6cce2b2d",
   "metadata": {},
   "outputs": [],
   "source": [
    "# Check if JVM is already running\n",
    "if not jpype.isJVMStarted():\n",
    "    # Start the JVM\n",
    "    startJVM(jpype.getDefaultJVMPath(), '-ea', '-Djava.class.path=%s' % ZEMBEREK_PATH)"
   ]
  },
  {
   "cell_type": "code",
   "execution_count": 12,
   "id": "4e96b778",
   "metadata": {},
   "outputs": [],
   "source": [
    "def lemmatizer(text):\n",
    "    TurkishMorphology = JClass('zemberek.morphology.TurkishMorphology')\n",
    "    morphology = TurkishMorphology.createWithDefaults()\n",
    "    analysis: java.util.ArrayList = (morphology.analyzeAndDisambiguate(text).bestAnalysis())\n",
    "    pos: List[str] = []\n",
    "    \n",
    "    for i, analysis in enumerate(analysis, start=1):\n",
    "        f'\\nAnalysis {i}: {analysis}',\n",
    "        f'\\nPrimary POS {i}: {analysis.getPos()}'\n",
    "        f'\\nPrimary POS (Short Form) {i}: {analysis.getPos().shortForm}'\n",
    "        \n",
    "        pos.append(f'{str(analysis.getLemmas()[0])}') \n",
    "    return \" \".join(pos)"
   ]
  },
  {
   "cell_type": "code",
   "execution_count": 13,
   "id": "33c2eb31",
   "metadata": {},
   "outputs": [
    {
     "data": {
      "text/html": [
       "<div>\n",
       "<style scoped>\n",
       "    .dataframe tbody tr th:only-of-type {\n",
       "        vertical-align: middle;\n",
       "    }\n",
       "\n",
       "    .dataframe tbody tr th {\n",
       "        vertical-align: top;\n",
       "    }\n",
       "\n",
       "    .dataframe thead th {\n",
       "        text-align: right;\n",
       "    }\n",
       "</style>\n",
       "<table border=\"1\" class=\"dataframe\">\n",
       "  <thead>\n",
       "    <tr style=\"text-align: right;\">\n",
       "      <th></th>\n",
       "      <th>E_Mail</th>\n",
       "      <th>Label</th>\n",
       "    </tr>\n",
       "  </thead>\n",
       "  <tbody>\n",
       "    <tr>\n",
       "      <th>0</th>\n",
       "      <td>hafta genel  haziran sayı küçük işle siber s...</td>\n",
       "      <td>ham</td>\n",
       "    </tr>\n",
       "    <tr>\n",
       "      <th>1</th>\n",
       "      <td>html head meta    meta      head body   table ...</td>\n",
       "      <td>ham</td>\n",
       "    </tr>\n",
       "    <tr>\n",
       "      <th>2</th>\n",
       "      <td>hoca ben matematik ortalama bütünle gir ol gen...</td>\n",
       "      <td>ham</td>\n",
       "    </tr>\n",
       "    <tr>\n",
       "      <th>3</th>\n",
       "      <td>merhaba    veri  site tekrar  durum     ilgi  ...</td>\n",
       "      <td>ham</td>\n",
       "    </tr>\n",
       "    <tr>\n",
       "      <th>4</th>\n",
       "      <td>from           başbakan   mar from    muhteşem...</td>\n",
       "      <td>ham</td>\n",
       "    </tr>\n",
       "  </tbody>\n",
       "</table>\n",
       "</div>"
      ],
      "text/plain": [
       "                                              E_Mail Label\n",
       "0    hafta genel  haziran sayı küçük işle siber s...   ham\n",
       "1  html head meta    meta      head body   table ...   ham\n",
       "2  hoca ben matematik ortalama bütünle gir ol gen...   ham\n",
       "3  merhaba    veri  site tekrar  durum     ilgi  ...   ham\n",
       "4  from           başbakan   mar from    muhteşem...   ham"
      ]
     },
     "execution_count": 13,
     "metadata": {},
     "output_type": "execute_result"
    }
   ],
   "source": [
    "#applying cleaning functions to training data set one at a time to check the results\n",
    "training_set[\"E_Mail\"] = training_set[\"E_Mail\"].apply(trlower)\n",
    "training_set[\"E_Mail\"] = training_set[\"E_Mail\"].apply(sayi)\n",
    "training_set[\"E_Mail\"] = training_set[\"E_Mail\"].apply(noktalama)\n",
    "training_set[\"E_Mail\"] = training_set[\"E_Mail\"].apply(wspace)\n",
    "\n",
    "#Removing Turkish stopwords with NLTK library\n",
    "training_set['E_Mail'] = training_set['E_Mail'].apply(lambda x: ' '.join([word for word in x.split() if word not in (stop_words)]))\n",
    "\n",
    "training_set['E_Mail'] = training_set['E_Mail'].str.split().apply(remove_length)\n",
    "\n",
    "training_set[\"E_Mail\"] = training_set[\"E_Mail\"].apply(lemmatizer)\n",
    "#since ZEMBEREK lemmatizer gives UNK as output \n",
    "# if a word cannot be processed, replacing it with ‘’\n",
    "\n",
    "training_set[\"E_Mail\"] = training_set[\"E_Mail\"].str.replace(\"UNK\", '')\n",
    "training_set.head()"
   ]
  },
  {
   "cell_type": "code",
   "execution_count": 14,
   "id": "d590f52d",
   "metadata": {},
   "outputs": [
    {
     "data": {
      "text/html": [
       "<div>\n",
       "<style scoped>\n",
       "    .dataframe tbody tr th:only-of-type {\n",
       "        vertical-align: middle;\n",
       "    }\n",
       "\n",
       "    .dataframe tbody tr th {\n",
       "        vertical-align: top;\n",
       "    }\n",
       "\n",
       "    .dataframe thead th {\n",
       "        text-align: right;\n",
       "    }\n",
       "</style>\n",
       "<table border=\"1\" class=\"dataframe\">\n",
       "  <thead>\n",
       "    <tr style=\"text-align: right;\">\n",
       "      <th></th>\n",
       "      <th>E_Mail</th>\n",
       "      <th>Label</th>\n",
       "    </tr>\n",
       "  </thead>\n",
       "  <tbody>\n",
       "    <tr>\n",
       "      <th>0</th>\n",
       "      <td>sayın yetkili geliş değiş gün teknoloji çalış ...</td>\n",
       "      <td>spam</td>\n",
       "    </tr>\n",
       "    <tr>\n",
       "      <th>1</th>\n",
       "      <td>sayın yetkili kasım tarih kpss sınav sonuç yap...</td>\n",
       "      <td>spam</td>\n",
       "    </tr>\n",
       "    <tr>\n",
       "      <th>2</th>\n",
       "      <td>sayın yetkili geliş değiş gün teknoloji çalış ...</td>\n",
       "      <td>spam</td>\n",
       "    </tr>\n",
       "    <tr>\n",
       "      <th>3</th>\n",
       "      <td>urla kaymakam urla haka çek anadol lise müdür ...</td>\n",
       "      <td>spam</td>\n",
       "    </tr>\n",
       "    <tr>\n",
       "      <th>4</th>\n",
       "      <td>sayın yetkili hız büyü geliş ol toplum büyü uy...</td>\n",
       "      <td>spam</td>\n",
       "    </tr>\n",
       "  </tbody>\n",
       "</table>\n",
       "</div>"
      ],
      "text/plain": [
       "                                              E_Mail Label\n",
       "0  sayın yetkili geliş değiş gün teknoloji çalış ...  spam\n",
       "1  sayın yetkili kasım tarih kpss sınav sonuç yap...  spam\n",
       "2  sayın yetkili geliş değiş gün teknoloji çalış ...  spam\n",
       "3  urla kaymakam urla haka çek anadol lise müdür ...  spam\n",
       "4  sayın yetkili hız büyü geliş ol toplum büyü uy...  spam"
      ]
     },
     "execution_count": 14,
     "metadata": {},
     "output_type": "execute_result"
    }
   ],
   "source": [
    "#applying cleaning functions to training data set one at a time to check the results\n",
    "df[\"E_Mail\"] = df[\"E_Mail\"].apply(trlower)\n",
    "df[\"E_Mail\"] = df[\"E_Mail\"].apply(sayi)\n",
    "df[\"E_Mail\"] = df[\"E_Mail\"].apply(noktalama)\n",
    "df[\"E_Mail\"] = df[\"E_Mail\"].apply(wspace)\n",
    "\n",
    "#Removing Turkish stopwords with NLTK library\n",
    "df['E_Mail'] = df['E_Mail'].apply(lambda x: ' '.join([word for word in x.split() if word not in (stop_words)]))\n",
    "\n",
    "df['E_Mail'] = df['E_Mail'].str.split().apply(remove_length)\n",
    "\n",
    "df[\"E_Mail\"] = df[\"E_Mail\"].apply(lemmatizer)\n",
    "#since ZEMBEREK lemmatizer gives UNK as output \n",
    "# if a word cannot be processed, replacing it with ‘’\n",
    "\n",
    "df[\"E_Mail\"] = df[\"E_Mail\"].str.replace(\"UNK\", '')\n",
    "df.head()"
   ]
  },
  {
   "cell_type": "code",
   "execution_count": 15,
   "id": "d18bbdcc",
   "metadata": {},
   "outputs": [
    {
     "data": {
      "text/html": [
       "<div>\n",
       "<style scoped>\n",
       "    .dataframe tbody tr th:only-of-type {\n",
       "        vertical-align: middle;\n",
       "    }\n",
       "\n",
       "    .dataframe tbody tr th {\n",
       "        vertical-align: top;\n",
       "    }\n",
       "\n",
       "    .dataframe thead th {\n",
       "        text-align: right;\n",
       "    }\n",
       "</style>\n",
       "<table border=\"1\" class=\"dataframe\">\n",
       "  <thead>\n",
       "    <tr style=\"text-align: right;\">\n",
       "      <th></th>\n",
       "      <th>E_Mail</th>\n",
       "      <th>Label</th>\n",
       "    </tr>\n",
       "  </thead>\n",
       "  <tbody>\n",
       "    <tr>\n",
       "      <th>0</th>\n",
       "      <td>html   html  html head  workshop kasım tit me...</td>\n",
       "      <td>ham</td>\n",
       "    </tr>\n",
       "    <tr>\n",
       "      <th>1</th>\n",
       "      <td>html head meta    meta      head body   table ...</td>\n",
       "      <td>ham</td>\n",
       "    </tr>\n",
       "    <tr>\n",
       "      <th>2</th>\n",
       "      <td>evet cnn yayın facebook yayın dur dünya görüş ...</td>\n",
       "      <td>ham</td>\n",
       "    </tr>\n",
       "    <tr>\n",
       "      <th>3</th>\n",
       "      <td>mail adres tarih nol tanıtım posta al  adres ...</td>\n",
       "      <td>spam</td>\n",
       "    </tr>\n",
       "    <tr>\n",
       "      <th>4</th>\n",
       "      <td>just search find check out the new msn search</td>\n",
       "      <td>ham</td>\n",
       "    </tr>\n",
       "  </tbody>\n",
       "</table>\n",
       "</div>"
      ],
      "text/plain": [
       "                                              E_Mail Label\n",
       "0   html   html  html head  workshop kasım tit me...   ham\n",
       "1  html head meta    meta      head body   table ...   ham\n",
       "2  evet cnn yayın facebook yayın dur dünya görüş ...   ham\n",
       "3   mail adres tarih nol tanıtım posta al  adres ...  spam\n",
       "4     just search find check out the new msn search    ham"
      ]
     },
     "execution_count": 15,
     "metadata": {},
     "output_type": "execute_result"
    }
   ],
   "source": [
    "#applying cleaning functions to training data set one at a time to check the results\n",
    "test_set[\"E_Mail\"] = test_set[\"E_Mail\"].apply(trlower)\n",
    "test_set[\"E_Mail\"] = test_set[\"E_Mail\"].apply(sayi)\n",
    "test_set[\"E_Mail\"] = test_set[\"E_Mail\"].apply(noktalama)\n",
    "test_set[\"E_Mail\"] = test_set[\"E_Mail\"].apply(wspace)\n",
    "\n",
    "#Removing Turkish stopwords with NLTK library\n",
    "test_set['E_Mail'] = test_set['E_Mail'].apply(lambda x: ' '.join([word for word in x.split() if word not in (stop_words)]))\n",
    "\n",
    "test_set['E_Mail'] = test_set['E_Mail'].str.split().apply(remove_length)\n",
    "\n",
    "test_set[\"E_Mail\"] = test_set[\"E_Mail\"].apply(lemmatizer)\n",
    "#since ZEMBEREK lemmatizer gives UNK as output \n",
    "# if a word cannot be processed, replacing it with ‘’\n",
    "\n",
    "test_set[\"E_Mail\"] = test_set[\"E_Mail\"].str.replace(\"UNK\", '')\n",
    "test_set.head()"
   ]
  },
  {
   "cell_type": "code",
   "execution_count": 16,
   "id": "5eb9d025",
   "metadata": {},
   "outputs": [],
   "source": [
    "training_set.to_csv('train_p.csv',sep=',',index=False);\n",
    "test_set.to_csv('test_p.csv',sep=',',index=False);"
   ]
  },
  {
   "cell_type": "markdown",
   "id": "90469a9c",
   "metadata": {},
   "source": [
    "# Classification (First Approach)"
   ]
  },
  {
   "cell_type": "code",
   "execution_count": 17,
   "id": "4dfc1dec",
   "metadata": {},
   "outputs": [
    {
     "data": {
      "text/plain": [
       "6773"
      ]
     },
     "execution_count": 17,
     "metadata": {},
     "output_type": "execute_result"
    }
   ],
   "source": [
    "#creating the vocabulary\n",
    "training_set['E_Mail'] = training_set['E_Mail'].str.split()\n",
    "vocabulary = []\n",
    "for email in training_set['E_Mail']:\n",
    "    for word in email:\n",
    "        vocabulary.append(word)\n",
    "vocabulary = list(set(vocabulary))\n",
    "len(vocabulary)"
   ]
  },
  {
   "cell_type": "code",
   "execution_count": 18,
   "id": "82e4dea0",
   "metadata": {},
   "outputs": [
    {
     "data": {
      "text/html": [
       "<div>\n",
       "<style scoped>\n",
       "    .dataframe tbody tr th:only-of-type {\n",
       "        vertical-align: middle;\n",
       "    }\n",
       "\n",
       "    .dataframe tbody tr th {\n",
       "        vertical-align: top;\n",
       "    }\n",
       "\n",
       "    .dataframe thead th {\n",
       "        text-align: right;\n",
       "    }\n",
       "</style>\n",
       "<table border=\"1\" class=\"dataframe\">\n",
       "  <thead>\n",
       "    <tr style=\"text-align: right;\">\n",
       "      <th></th>\n",
       "      <th>E_Mail</th>\n",
       "      <th>Label</th>\n",
       "      <th>muazzam</th>\n",
       "      <th>üzgü</th>\n",
       "      <th>pamukkale</th>\n",
       "      <th>testis</th>\n",
       "      <th>©</th>\n",
       "      <th>es</th>\n",
       "      <th>badi</th>\n",
       "      <th>yalman</th>\n",
       "      <th>...</th>\n",
       "      <th>sans</th>\n",
       "      <th>soykırım</th>\n",
       "      <th>hizmet</th>\n",
       "      <th>hastalık</th>\n",
       "      <th>movie</th>\n",
       "      <th>şimdilik</th>\n",
       "      <th>karşı</th>\n",
       "      <th>komutan</th>\n",
       "      <th>ıstanbul</th>\n",
       "      <th>kuyruk</th>\n",
       "    </tr>\n",
       "  </thead>\n",
       "  <tbody>\n",
       "    <tr>\n",
       "      <th>0</th>\n",
       "      <td>[hafta, genel, haziran, sayı, küçük, işle, sib...</td>\n",
       "      <td>ham</td>\n",
       "      <td>0</td>\n",
       "      <td>0</td>\n",
       "      <td>0</td>\n",
       "      <td>0</td>\n",
       "      <td>0</td>\n",
       "      <td>0</td>\n",
       "      <td>0</td>\n",
       "      <td>0</td>\n",
       "      <td>...</td>\n",
       "      <td>0</td>\n",
       "      <td>0</td>\n",
       "      <td>0</td>\n",
       "      <td>0</td>\n",
       "      <td>0</td>\n",
       "      <td>0</td>\n",
       "      <td>0</td>\n",
       "      <td>0</td>\n",
       "      <td>0</td>\n",
       "      <td>0</td>\n",
       "    </tr>\n",
       "    <tr>\n",
       "      <th>1</th>\n",
       "      <td>[html, head, meta, meta, head, body, table, ta...</td>\n",
       "      <td>ham</td>\n",
       "      <td>0</td>\n",
       "      <td>0</td>\n",
       "      <td>0</td>\n",
       "      <td>0</td>\n",
       "      <td>0</td>\n",
       "      <td>0</td>\n",
       "      <td>0</td>\n",
       "      <td>0</td>\n",
       "      <td>...</td>\n",
       "      <td>0</td>\n",
       "      <td>0</td>\n",
       "      <td>3</td>\n",
       "      <td>0</td>\n",
       "      <td>0</td>\n",
       "      <td>0</td>\n",
       "      <td>0</td>\n",
       "      <td>0</td>\n",
       "      <td>0</td>\n",
       "      <td>0</td>\n",
       "    </tr>\n",
       "    <tr>\n",
       "      <th>2</th>\n",
       "      <td>[hoca, ben, matematik, ortalama, bütünle, gir,...</td>\n",
       "      <td>ham</td>\n",
       "      <td>0</td>\n",
       "      <td>0</td>\n",
       "      <td>0</td>\n",
       "      <td>0</td>\n",
       "      <td>0</td>\n",
       "      <td>0</td>\n",
       "      <td>0</td>\n",
       "      <td>0</td>\n",
       "      <td>...</td>\n",
       "      <td>0</td>\n",
       "      <td>0</td>\n",
       "      <td>0</td>\n",
       "      <td>0</td>\n",
       "      <td>0</td>\n",
       "      <td>0</td>\n",
       "      <td>0</td>\n",
       "      <td>0</td>\n",
       "      <td>0</td>\n",
       "      <td>0</td>\n",
       "    </tr>\n",
       "    <tr>\n",
       "      <th>3</th>\n",
       "      <td>[merhaba, veri, site, tekrar, durum, ilgi, aya...</td>\n",
       "      <td>ham</td>\n",
       "      <td>0</td>\n",
       "      <td>0</td>\n",
       "      <td>0</td>\n",
       "      <td>0</td>\n",
       "      <td>0</td>\n",
       "      <td>0</td>\n",
       "      <td>0</td>\n",
       "      <td>0</td>\n",
       "      <td>...</td>\n",
       "      <td>0</td>\n",
       "      <td>0</td>\n",
       "      <td>0</td>\n",
       "      <td>0</td>\n",
       "      <td>0</td>\n",
       "      <td>0</td>\n",
       "      <td>0</td>\n",
       "      <td>0</td>\n",
       "      <td>0</td>\n",
       "      <td>0</td>\n",
       "    </tr>\n",
       "    <tr>\n",
       "      <th>4</th>\n",
       "      <td>[from, başbakan, mar, from, muhteşem, bir, mek...</td>\n",
       "      <td>ham</td>\n",
       "      <td>0</td>\n",
       "      <td>0</td>\n",
       "      <td>0</td>\n",
       "      <td>0</td>\n",
       "      <td>0</td>\n",
       "      <td>0</td>\n",
       "      <td>0</td>\n",
       "      <td>0</td>\n",
       "      <td>...</td>\n",
       "      <td>0</td>\n",
       "      <td>0</td>\n",
       "      <td>0</td>\n",
       "      <td>0</td>\n",
       "      <td>0</td>\n",
       "      <td>0</td>\n",
       "      <td>0</td>\n",
       "      <td>0</td>\n",
       "      <td>0</td>\n",
       "      <td>0</td>\n",
       "    </tr>\n",
       "  </tbody>\n",
       "</table>\n",
       "<p>5 rows × 6775 columns</p>\n",
       "</div>"
      ],
      "text/plain": [
       "                                              E_Mail Label  muazzam  üzgü  \\\n",
       "0  [hafta, genel, haziran, sayı, küçük, işle, sib...   ham        0     0   \n",
       "1  [html, head, meta, meta, head, body, table, ta...   ham        0     0   \n",
       "2  [hoca, ben, matematik, ortalama, bütünle, gir,...   ham        0     0   \n",
       "3  [merhaba, veri, site, tekrar, durum, ilgi, aya...   ham        0     0   \n",
       "4  [from, başbakan, mar, from, muhteşem, bir, mek...   ham        0     0   \n",
       "\n",
       "   pamukkale  testis  ©  es  badi  yalman  ...  sans  soykırım  hizmet  \\\n",
       "0          0       0  0   0     0       0  ...     0         0       0   \n",
       "1          0       0  0   0     0       0  ...     0         0       3   \n",
       "2          0       0  0   0     0       0  ...     0         0       0   \n",
       "3          0       0  0   0     0       0  ...     0         0       0   \n",
       "4          0       0  0   0     0       0  ...     0         0       0   \n",
       "\n",
       "   hastalık  movie  şimdilik  karşı  komutan  ıstanbul  kuyruk  \n",
       "0         0      0         0      0        0         0       0  \n",
       "1         0      0         0      0        0         0       0  \n",
       "2         0      0         0      0        0         0       0  \n",
       "3         0      0         0      0        0         0       0  \n",
       "4         0      0         0      0        0         0       0  \n",
       "\n",
       "[5 rows x 6775 columns]"
      ]
     },
     "execution_count": 18,
     "metadata": {},
     "output_type": "execute_result"
    }
   ],
   "source": [
    "# Creating the dataframe to calculate probabilities on\n",
    "word_counts_per_email = {unique_word: [0] * len(training_set['E_Mail']) for unique_word in vocabulary}\n",
    "for index, email in enumerate(training_set['E_Mail']):\n",
    "    for word in email:\n",
    "        word_counts_per_email[word][index] += 1\n",
    "word_counts = pd.DataFrame(word_counts_per_email)\n",
    "word_counts.head()\n",
    "training_set_clean = pd.concat([training_set, word_counts], axis=1)\n",
    "training_set_clean.head()"
   ]
  },
  {
   "cell_type": "code",
   "execution_count": 19,
   "id": "eff56521",
   "metadata": {},
   "outputs": [],
   "source": [
    "#Isolating spam and ham messages first\n",
    "spam_emails = training_set_clean[training_set_clean['Label'] == 'spam']\n",
    "ham_emails = training_set_clean[training_set_clean['Label'] == 'ham']\n",
    "# P(Spam) and P(Ham)\n",
    "p_spam = len(spam_emails) / len(training_set_clean)\n",
    "p_ham = len(ham_emails) / len(training_set_clean)\n",
    "# N_Spam\n",
    "n_words_per_spam_emails = spam_emails['E_Mail'].apply(len)\n",
    "n_spam = n_words_per_spam_emails.sum()\n",
    "# N_Ham\n",
    "n_words_per_ham_emails = ham_emails['E_Mail'].apply(len)\n",
    "n_ham = n_words_per_ham_emails.sum()\n",
    "# N_Vocabulary\n",
    "n_vocabulary = len(vocabulary)\n",
    "\n",
    "# Laplace smoothing\n",
    "alpha = 1\n",
    "# Initiate parameters\n",
    "parameters_spam = {unique_word:0 for unique_word in vocabulary}\n",
    "parameters_ham = {unique_word:0 for unique_word in vocabulary}\n",
    "# Calculate parameters\n",
    "for word in vocabulary:\n",
    "    n_word_given_spam = spam_emails[word].sum() # spam_messages already defined\n",
    "    p_word_given_spam = (n_word_given_spam + alpha) / (n_spam + alpha*n_vocabulary)\n",
    "    parameters_spam[word] = p_word_given_spam\n",
    "    n_word_given_ham = ham_emails[word].sum() # ham_messages already defined\n",
    "    p_word_given_ham = (n_word_given_ham + alpha) / (n_ham+ alpha*n_vocabulary)\n",
    "    parameters_ham[word] = p_word_given_ham"
   ]
  },
  {
   "cell_type": "markdown",
   "id": "740441a7",
   "metadata": {},
   "source": [
    "### Applying bayes theorem"
   ]
  },
  {
   "cell_type": "code",
   "execution_count": 20,
   "id": "9ef86468",
   "metadata": {},
   "outputs": [],
   "source": [
    "def classify(email):\n",
    "    email = re.sub('\\W', ' ', email )\n",
    "    email = email.lower().split()\n",
    "    \n",
    "    p_spam_given_email = p_spam\n",
    "    p_ham_given_email = p_ham\n",
    "    \n",
    "    for word in email:\n",
    "        if word in parameters_spam:\n",
    "            p_spam_given_email *= parameters_spam[word]\n",
    "        if word in parameters_ham:\n",
    "            p_ham_given_email *= parameters_ham[word]\n",
    "        print('P(Spam|email):', p_spam_given_email)\n",
    "        print('P(Ham|email):', p_ham_given_email)\n",
    "    if p_ham_given_email > p_spam_given_email:\n",
    "        print('Label: Ham')\n",
    "    elif p_ham_given_email < p_spam_given_email:\n",
    "        print('Label: Spam')\n",
    "    else:\n",
    "        print('Label: Ham')"
   ]
  },
  {
   "cell_type": "code",
   "execution_count": 21,
   "id": "512b1391",
   "metadata": {},
   "outputs": [],
   "source": [
    "def classify_test_set(email):\n",
    "    email = re.sub('\\W', ' ', email )\n",
    "    email = email.lower().split()\n",
    "    \n",
    "    p_spam_given_email = p_spam\n",
    "    p_ham_given_email = p_ham\n",
    "    \n",
    "    for word in email:\n",
    "        if word in parameters_spam:\n",
    "            p_spam_given_email*= parameters_spam[word]\n",
    "        if word in parameters_ham:\n",
    "            p_ham_given_email *= parameters_ham[word]\n",
    "        \n",
    "    if p_ham_given_email > p_spam_given_email:\n",
    "        return 'ham'\n",
    "    elif p_spam_given_email > p_ham_given_email:\n",
    "        return 'spam'\n",
    "    else:\n",
    "        return 'ham'"
   ]
  },
  {
   "cell_type": "code",
   "execution_count": 22,
   "id": "fd0e71bf",
   "metadata": {},
   "outputs": [],
   "source": [
    "test_set['predicted'] = test_set['E_Mail'].apply(classify_test_set)"
   ]
  },
  {
   "cell_type": "markdown",
   "id": "35d9b3f9",
   "metadata": {},
   "source": [
    "### Accuracy Metrics"
   ]
  },
  {
   "cell_type": "code",
   "execution_count": 23,
   "id": "0f77ee92",
   "metadata": {},
   "outputs": [
    {
     "name": "stdout",
     "output_type": "stream",
     "text": [
      "Correct: 98\n",
      "Incorrect: 42\n",
      "Accuracy: 0.7\n",
      "False Negative Ratio: 25.0\n",
      "False Positive Ratio: 5.0\n"
     ]
    }
   ],
   "source": [
    "#Accuracy Metrics\n",
    "correct = 0\n",
    "total = test_set.shape[0]\n",
    "for row in test_set.iterrows():\n",
    "    row = row[1]\n",
    "    if row['Label'] == row['predicted']:\n",
    "        correct += 1\n",
    "print('Correct:', correct)\n",
    "print('Incorrect:', total - correct)\n",
    "print('Accuracy:', correct/total)\n",
    "\n",
    "#False Positive and False Negative Metrics\n",
    "fp=0\n",
    "fn=0\n",
    "for row in test_set.iterrows():\n",
    "    row = row[1]\n",
    "    if row['Label'] == 'spam':\n",
    "        if row['predicted']=='ham':\n",
    "            fn+=1\n",
    "    if row['Label'] == 'ham':\n",
    "        if row['predicted']=='spam':\n",
    "            fp+=1\n",
    "print('False Negative Ratio:', fn/total*100)\n",
    "print('False Positive Ratio:', fp/total*100)"
   ]
  },
  {
   "cell_type": "markdown",
   "id": "34be65f9",
   "metadata": {},
   "source": [
    "## Classification (Second Approach)"
   ]
  },
  {
   "cell_type": "code",
   "execution_count": 24,
   "id": "8c4a4092",
   "metadata": {},
   "outputs": [],
   "source": [
    "text = pd.DataFrame(df['E_Mail'])\n",
    "label = pd.DataFrame(df['Label'])"
   ]
  },
  {
   "cell_type": "code",
   "execution_count": 25,
   "id": "dd067f5d",
   "metadata": {},
   "outputs": [],
   "source": [
    "#convert the text data into vectors\n",
    "from sklearn.feature_extraction.text import TfidfVectorizer\n",
    "vectorizer = TfidfVectorizer()\n",
    "vectors = vectorizer.fit_transform(df['E_Mail'])\n",
    "vectors.shape\n",
    "#features = word_vectors\n",
    "features = vectors"
   ]
  },
  {
   "cell_type": "code",
   "execution_count": 26,
   "id": "c32c9165",
   "metadata": {},
   "outputs": [],
   "source": [
    "#split the dataset into train and test set\n",
    "X_train, X_test, y_train, y_test = train_test_split(features, df['Label'], test_size=0.15, random_state=111)"
   ]
  },
  {
   "cell_type": "code",
   "execution_count": 27,
   "id": "e1cd4275",
   "metadata": {},
   "outputs": [
    {
     "data": {
      "text/plain": [
       "{'SVC': SVC(gamma=1.0, kernel='sigmoid'),\n",
       " 'NB': MultinomialNB(alpha=0.2),\n",
       " 'DT': DecisionTreeClassifier(min_samples_split=7, random_state=111),\n",
       " 'LR': LogisticRegression(penalty='l1', solver='liblinear'),\n",
       " 'RF': RandomForestClassifier(n_estimators=31, random_state=111)}"
      ]
     },
     "execution_count": 27,
     "metadata": {},
     "output_type": "execute_result"
    }
   ],
   "source": [
    "#initialize multiple classification models\n",
    "svc = SVC(kernel='sigmoid', gamma=1.0)\n",
    "knc = KNeighborsClassifier(n_neighbors=49)\n",
    "mnb = MultinomialNB(alpha=0.2)\n",
    "dtc = DecisionTreeClassifier(min_samples_split=7, random_state=111)\n",
    "lrc = LogisticRegression(solver='liblinear', penalty='l1')\n",
    "rfc = RandomForestClassifier(n_estimators=31, random_state=111)\n",
    "#create a dictionary of variables and models\n",
    "clfs = {'SVC' : svc, 'NB': mnb, 'DT': dtc, 'LR': lrc, 'RF': rfc}\n",
    "clfs"
   ]
  },
  {
   "cell_type": "code",
   "execution_count": 28,
   "id": "7700cefb",
   "metadata": {},
   "outputs": [
    {
     "data": {
      "text/plain": [
       "[('SVC', [0.9428571428571428]),\n",
       " ('NB', [0.9333333333333333]),\n",
       " ('DT', [0.8476190476190476]),\n",
       " ('LR', [0.9142857142857143]),\n",
       " ('RF', [0.9238095238095239])]"
      ]
     },
     "execution_count": 28,
     "metadata": {},
     "output_type": "execute_result"
    }
   ],
   "source": [
    "#fit the data onto the models\n",
    "def train(clf, features, targets):\n",
    "    clf.fit(features, targets)\n",
    "\n",
    "def predict(clf, features):\n",
    "    return (clf.predict(features))\n",
    "\n",
    "pred_scores_word_vectors = []\n",
    "for k,v in clfs.items():\n",
    "    train(v, X_train, y_train)\n",
    "    pred = predict(v, X_test)\n",
    "    pred_scores_word_vectors.append((k, [accuracy_score(y_test , pred)]))\n",
    "\n",
    "#getting the accuracy scores of the classifiers using tf\u0002idf vectorizing\n",
    "pred_scores_word_vectors"
   ]
  },
  {
   "cell_type": "code",
   "execution_count": 30,
   "id": "6d2aa7b1",
   "metadata": {},
   "outputs": [
    {
     "name": "stdout",
     "output_type": "stream",
     "text": [
      "Accuracy of the classifier is: 0.9333333333333333\n"
     ]
    }
   ],
   "source": [
    "# Accuracy Score of Naïve Bayes\n",
    "from sklearn.metrics import accuracy_score\n",
    "y_pred_nb = mnb.predict(X_test)\n",
    "y_true_nb = y_test\n",
    "print(f\"Accuracy of the classifier is: {accuracy_score(y_test, y_pred_nb)}\")"
   ]
  },
  {
   "cell_type": "code",
   "execution_count": 42,
   "id": "ac0c6fbf",
   "metadata": {},
   "outputs": [
    {
     "name": "stdout",
     "output_type": "stream",
     "text": [
      "[[63  3]\n",
      " [ 4 35]]\n"
     ]
    },
    {
     "data": {
      "image/png": "[encoded data removed]",
      "text/plain": [
       "<Figure size 432x288 with 2 Axes>"
      ]
     },
     "metadata": {
      "needs_background": "light"
     },
     "output_type": "display_data"
    }
   ],
   "source": [
    "from sklearn.metrics import confusion_matrix, ConfusionMatrixDisplay\n",
    "\n",
    "cm = confusion_matrix(y_test, y_pred_nb)\n",
    "\n",
    "print(cm)  # print the confusion matrix\n",
    "\n",
    "disp = ConfusionMatrixDisplay(confusion_matrix=cm, display_labels=mnb.classes_)\n",
    "disp.plot()\n",
    "plt.show()"
   ]
  },
  {
   "cell_type": "code",
   "execution_count": 45,
   "id": "4fbcff3b",
   "metadata": {},
   "outputs": [
    {
     "name": "stdout",
     "output_type": "stream",
     "text": [
      "Precision Score of the classifier is: 0.9210526315789473\n",
      "Recall Score of the classifier is: 0.8974358974358975\n"
     ]
    }
   ],
   "source": [
    "#Precision Score of Naïve Bayes\n",
    "from sklearn.metrics import precision_score\n",
    "print(f\"Precision Score of the classifier is: {precision_score(y_test, y_pred_nb, pos_label='spam')}\")\n",
    "\n",
    "# Recall score of Naïve Bayes\n",
    "from sklearn.metrics import recall_score\n",
    "print(f\"Recall Score of the classifier is: {recall_score(y_test, y_pred_nb, pos_label='spam')}\")"
   ]
  },
  {
   "cell_type": "code",
   "execution_count": 53,
   "id": "a8178cf8",
   "metadata": {},
   "outputs": [
    {
     "name": "stdout",
     "output_type": "stream",
     "text": [
      "F1 Score of the classifier is: 0.9333333333333333\n"
     ]
    }
   ],
   "source": [
    "# F1-Score of Naïve Bayes\n",
    "from sklearn.metrics import f1_score\n",
    "print(f\"F1 Score of the classifier is: {f1_score(y_test, y_pred_nb, average='micro')}\")"
   ]
  },
  {
   "cell_type": "code",
   "execution_count": 55,
   "id": "d10daa7d",
   "metadata": {},
   "outputs": [
    {
     "name": "stdout",
     "output_type": "stream",
     "text": [
      "AUC for our classifier is: 0.9778554778554779\n"
     ]
    },
    {
     "data": {
      "image/png": "[encoded data removed]",
      "text/plain": [
       "<Figure size 432x288 with 1 Axes>"
      ]
     },
     "metadata": {
      "needs_background": "light"
     },
     "output_type": "display_data"
    }
   ],
   "source": [
    "from sklearn.metrics import roc_curve, auc\n",
    "from sklearn.preprocessing import label_binarize\n",
    "\n",
    "# Binarize the output\n",
    "y_test_bin = label_binarize(y_test, classes=['ham', 'spam'])\n",
    "\n",
    "class_probabilities = mnb.predict_proba(X_test)\n",
    "preds = class_probabilities[:, 1]\n",
    "fpr, tpr, threshold = roc_curve(y_test_bin, preds)\n",
    "roc_auc = auc(fpr, tpr)\n",
    "\n",
    "# Printing AUC\n",
    "print(f\"AUC for our classifier is: {roc_auc}\")\n",
    "\n",
    "# Plotting the ROC\n",
    "plt.title('Receiver Operating Characteristic')\n",
    "plt.plot(fpr, tpr, 'b', label = 'AUC = %0.2f' % roc_auc)\n",
    "plt.legend(loc = 'lower right')\n",
    "plt.plot([0, 1], [0, 1],'r--')\n",
    "plt.xlim([0, 1])\n",
    "plt.ylim([0, 1])\n",
    "plt.ylabel('True Positive Rate')\n",
    "plt.xlabel('False Positive Rate')\n",
    "plt.show()"
   ]
  },
  {
   "cell_type": "code",
   "execution_count": null,
   "id": "d1a94a3e",
   "metadata": {},
   "outputs": [],
   "source": []
  }
 ],
 "metadata": {
  "kernelspec": {
   "display_name": "Python 3 (ipykernel)",
   "language": "python",
   "name": "python3"
  },
  "language_info": {
   "codemirror_mode": {
    "name": "ipython",
    "version": 3
   },
   "file_extension": ".py",
   "mimetype": "text/x-python",
   "name": "python",
   "nbconvert_exporter": "python",
   "pygments_lexer": "ipython3",
   "version": "3.9.12"
  }
 },
 "nbformat": 4,
 "nbformat_minor": 5
}
